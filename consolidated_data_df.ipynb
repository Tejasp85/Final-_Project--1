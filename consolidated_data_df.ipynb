{
 "cells": [
  {
   "cell_type": "code",
   "execution_count": 1,
   "metadata": {},
   "outputs": [
    {
     "name": "stdout",
     "output_type": "stream",
     "text": [
      "importing Jupyter notebook from Garrett_notebook.ipynb\n",
      "importing Jupyter notebook from Harry_notebook.ipynb\n",
      "importing Jupyter notebook from Mike_notebook.ipynb\n"
     ]
    }
   ],
   "source": [
    "## Import Dependencies \n",
    "\n",
    "import pandas as pd\n",
    "import scipy.stats as st\n",
    "import matplotlib.pyplot as plt\n",
    "from sklearn import linear_model\n",
    "import import_ipynb\n",
    "import plotly.express as px\n",
    "import plotly.graph_objects as go\n",
    "import numpy as np\n",
    "import seaborn as sns\n",
    "\n",
    "## Import Functions from other Jupyter Notebooks\n",
    "\n",
    "from Garrett_notebook import scatter_graph\n",
    "from Harry_notebook import bar_plt\n",
    "from Mike_notebook import bubble1, bubble2"
   ]
  },
  {
   "cell_type": "code",
   "execution_count": 2,
   "metadata": {},
   "outputs": [],
   "source": [
    "## Import all clean data\n",
    "gov_corruption_df = pd.read_csv('clean data/cpi_2019.csv')\n",
    "generosity_df = pd.read_csv('clean data/global_generosity_score.csv')\n",
    "human_freedom_df = pd.read_csv('clean data/hf_score.csv')\n",
    "life_expectancy_df = pd.read_csv('clean data/lifeexp.csv')\n",
    "education_df = pd.read_csv('clean data/clean_edu.csv')\n",
    "gdp_df = pd.read_csv('clean data/Updated_GDP.csv')\n",
    "happy_df = pd.read_csv('clean data/happy_score.csv')"
   ]
  },
  {
   "cell_type": "code",
   "execution_count": 3,
   "metadata": {},
   "outputs": [],
   "source": [
    "## Clean up happy score dataframe for merge\n",
    "happy_df = happy_df.rename(columns={'Country or region':'Country','Score':'Happiness Score'})\n",
    "#happy_df"
   ]
  },
  {
   "cell_type": "code",
   "execution_count": 4,
   "metadata": {},
   "outputs": [],
   "source": [
    "## Clean up generosity dataframe for merge\n",
    "generosity_df = generosity_df.drop('Unnamed: 0',axis=1)\n",
    "clean_gen_df = generosity_df.rename(columns={'country':'Country','overallScore':'Generosity Score'})\n",
    "clean_gen_df = clean_gen_df.sort_values('Country')\n",
    "clean_gen_df = clean_gen_df.reset_index(drop=True)\n",
    "#clean_gen_df"
   ]
  },
  {
   "cell_type": "code",
   "execution_count": 5,
   "metadata": {},
   "outputs": [],
   "source": [
    "## Clean up corruption dataframe for merge\n",
    "clean_corrupt_df = gov_corruption_df.sort_values('Country')\n",
    "clean_corrupt_df = clean_corrupt_df.reset_index(drop=True)\n",
    "#clean_corrupt_df"
   ]
  },
  {
   "cell_type": "code",
   "execution_count": 6,
   "metadata": {},
   "outputs": [],
   "source": [
    "## Clean up gdp dataframe for merge\n",
    "gdp_df = gdp_df.rename(columns={'Country Name':'Country','Country Code':'Region','2019':\"GDP\"})\n",
    "gdp_df = gdp_df[['Country',\"GDP\"]]\n",
    "#gdp_df\n"
   ]
  },
  {
   "cell_type": "code",
   "execution_count": 7,
   "metadata": {},
   "outputs": [],
   "source": [
    "## Clean up freedom dataframe for merge\n",
    "human_freedom_df = human_freedom_df.rename(columns={'countries':'Country','region':'Region','hf_score':'Human Freedom Score'})\n",
    "#human_freedom_df"
   ]
  },
  {
   "cell_type": "code",
   "execution_count": 8,
   "metadata": {},
   "outputs": [],
   "source": [
    "## Clean up education dataframe for merge\n",
    "education_df = education_df.rename(columns={'Data Source':'Country','Rate':'Education'})\n",
    "#education_df"
   ]
  },
  {
   "cell_type": "code",
   "execution_count": 9,
   "metadata": {},
   "outputs": [],
   "source": [
    "## merge dataframes into final data frame for analysis\n",
    "merge_1 = pd.merge(clean_corrupt_df,clean_gen_df,how='outer',on='Country')\n",
    "merge_2 = pd.merge(merge_1,human_freedom_df,how='outer',on='Country')\n",
    "merge_3 = pd.merge(merge_2,life_expectancy_df,how='outer',on='Country')\n",
    "merge_4 = pd.merge(merge_3,education_df,how='outer',on='Country')\n",
    "merge_5 = pd.merge(merge_4,gdp_df,how='outer',on='Country')\n",
    "final_data_df = pd.merge(merge_5,happy_df,how='outer',on='Country')\n"
   ]
  },
  {
   "cell_type": "code",
   "execution_count": 10,
   "metadata": {},
   "outputs": [],
   "source": [
    "## Organize and define columns\n",
    "final_data_df = final_data_df[['Country','Region','Happiness Score','CPI score 2019','Generosity Score',\n",
    "                               'Human Freedom Score','Life Expectancy','Education','GDP']]\n",
    "\n",
    "## Drop Countries with NaN in columns\n",
    "final_data_df = final_data_df.dropna(axis=0,how='any')\n",
    "\n",
    "## Use this data frame for analysis\n",
    "final_data_df = final_data_df.reset_index(drop=True)\n",
    "\n",
    "## Use this data frame for visualization\n",
    "formatted_data_df = final_data_df.reset_index(drop=True)"
   ]
  },
  {
   "cell_type": "code",
   "execution_count": 11,
   "metadata": {},
   "outputs": [
    {
     "data": {
      "text/html": [
       "<div>\n",
       "<style scoped>\n",
       "    .dataframe tbody tr th:only-of-type {\n",
       "        vertical-align: middle;\n",
       "    }\n",
       "\n",
       "    .dataframe tbody tr th {\n",
       "        vertical-align: top;\n",
       "    }\n",
       "\n",
       "    .dataframe thead th {\n",
       "        text-align: right;\n",
       "    }\n",
       "</style>\n",
       "<table border=\"1\" class=\"dataframe\">\n",
       "  <thead>\n",
       "    <tr style=\"text-align: right;\">\n",
       "      <th></th>\n",
       "      <th>Country</th>\n",
       "      <th>Region</th>\n",
       "      <th>Happiness Score</th>\n",
       "      <th>CPI score 2019</th>\n",
       "      <th>Generosity Score</th>\n",
       "      <th>Human Freedom Score</th>\n",
       "      <th>Life Expectancy</th>\n",
       "      <th>Education</th>\n",
       "      <th>GDP</th>\n",
       "    </tr>\n",
       "  </thead>\n",
       "  <tbody>\n",
       "    <tr>\n",
       "      <th>0</th>\n",
       "      <td>Albania</td>\n",
       "      <td>ECA</td>\n",
       "      <td>4.719</td>\n",
       "      <td>35.0</td>\n",
       "      <td>23.0</td>\n",
       "      <td>7.81</td>\n",
       "      <td>78.0</td>\n",
       "      <td>94.15%</td>\n",
       "      <td>$5.35k</td>\n",
       "    </tr>\n",
       "    <tr>\n",
       "      <th>1</th>\n",
       "      <td>Argentina</td>\n",
       "      <td>AME</td>\n",
       "      <td>6.086</td>\n",
       "      <td>45.0</td>\n",
       "      <td>28.0</td>\n",
       "      <td>7.05</td>\n",
       "      <td>76.6</td>\n",
       "      <td>89.30%</td>\n",
       "      <td>$9.91k</td>\n",
       "    </tr>\n",
       "    <tr>\n",
       "      <th>2</th>\n",
       "      <td>Armenia</td>\n",
       "      <td>ECA</td>\n",
       "      <td>4.559</td>\n",
       "      <td>42.0</td>\n",
       "      <td>21.0</td>\n",
       "      <td>7.69</td>\n",
       "      <td>76.0</td>\n",
       "      <td>90.51%</td>\n",
       "      <td>$4.62k</td>\n",
       "    </tr>\n",
       "    <tr>\n",
       "      <th>3</th>\n",
       "      <td>Austria</td>\n",
       "      <td>WE/EU</td>\n",
       "      <td>7.246</td>\n",
       "      <td>77.0</td>\n",
       "      <td>45.0</td>\n",
       "      <td>8.45</td>\n",
       "      <td>81.6</td>\n",
       "      <td>97.13%</td>\n",
       "      <td>$50.14k</td>\n",
       "    </tr>\n",
       "    <tr>\n",
       "      <th>4</th>\n",
       "      <td>Azerbaijan</td>\n",
       "      <td>ECA</td>\n",
       "      <td>5.208</td>\n",
       "      <td>30.0</td>\n",
       "      <td>24.0</td>\n",
       "      <td>6.29</td>\n",
       "      <td>71.4</td>\n",
       "      <td>86.94%</td>\n",
       "      <td>$4.79k</td>\n",
       "    </tr>\n",
       "    <tr>\n",
       "      <th>...</th>\n",
       "      <td>...</td>\n",
       "      <td>...</td>\n",
       "      <td>...</td>\n",
       "      <td>...</td>\n",
       "      <td>...</td>\n",
       "      <td>...</td>\n",
       "      <td>...</td>\n",
       "      <td>...</td>\n",
       "      <td>...</td>\n",
       "    </tr>\n",
       "    <tr>\n",
       "      <th>83</th>\n",
       "      <td>Ukraine</td>\n",
       "      <td>ECA</td>\n",
       "      <td>4.332</td>\n",
       "      <td>30.0</td>\n",
       "      <td>24.0</td>\n",
       "      <td>6.45</td>\n",
       "      <td>73.0</td>\n",
       "      <td>96.16%</td>\n",
       "      <td>$3.66k</td>\n",
       "    </tr>\n",
       "    <tr>\n",
       "      <th>84</th>\n",
       "      <td>United Arab Emirates</td>\n",
       "      <td>MENA</td>\n",
       "      <td>6.825</td>\n",
       "      <td>71.0</td>\n",
       "      <td>45.0</td>\n",
       "      <td>6.17</td>\n",
       "      <td>76.1</td>\n",
       "      <td>78.31%</td>\n",
       "      <td>$43.10k</td>\n",
       "    </tr>\n",
       "    <tr>\n",
       "      <th>85</th>\n",
       "      <td>United States</td>\n",
       "      <td>AME</td>\n",
       "      <td>6.892</td>\n",
       "      <td>69.0</td>\n",
       "      <td>58.0</td>\n",
       "      <td>8.44</td>\n",
       "      <td>78.5</td>\n",
       "      <td>104.12%</td>\n",
       "      <td>$65.30k</td>\n",
       "    </tr>\n",
       "    <tr>\n",
       "      <th>86</th>\n",
       "      <td>Zambia</td>\n",
       "      <td>SSA</td>\n",
       "      <td>4.107</td>\n",
       "      <td>34.0</td>\n",
       "      <td>39.0</td>\n",
       "      <td>6.71</td>\n",
       "      <td>62.5</td>\n",
       "      <td>54.77%</td>\n",
       "      <td>$1.31k</td>\n",
       "    </tr>\n",
       "    <tr>\n",
       "      <th>87</th>\n",
       "      <td>Zimbabwe</td>\n",
       "      <td>SSA</td>\n",
       "      <td>3.663</td>\n",
       "      <td>24.0</td>\n",
       "      <td>29.0</td>\n",
       "      <td>5.59</td>\n",
       "      <td>60.7</td>\n",
       "      <td>71.13%</td>\n",
       "      <td>$1.46k</td>\n",
       "    </tr>\n",
       "  </tbody>\n",
       "</table>\n",
       "<p>88 rows × 9 columns</p>\n",
       "</div>"
      ],
      "text/plain": [
       "                 Country Region  Happiness Score  CPI score 2019  \\\n",
       "0                Albania    ECA            4.719            35.0   \n",
       "1              Argentina    AME            6.086            45.0   \n",
       "2                Armenia    ECA            4.559            42.0   \n",
       "3                Austria  WE/EU            7.246            77.0   \n",
       "4             Azerbaijan    ECA            5.208            30.0   \n",
       "..                   ...    ...              ...             ...   \n",
       "83               Ukraine    ECA            4.332            30.0   \n",
       "84  United Arab Emirates   MENA            6.825            71.0   \n",
       "85         United States    AME            6.892            69.0   \n",
       "86                Zambia    SSA            4.107            34.0   \n",
       "87              Zimbabwe    SSA            3.663            24.0   \n",
       "\n",
       "    Generosity Score  Human Freedom Score  Life Expectancy Education      GDP  \n",
       "0               23.0                 7.81             78.0    94.15%   $5.35k  \n",
       "1               28.0                 7.05             76.6    89.30%   $9.91k  \n",
       "2               21.0                 7.69             76.0    90.51%   $4.62k  \n",
       "3               45.0                 8.45             81.6    97.13%  $50.14k  \n",
       "4               24.0                 6.29             71.4    86.94%   $4.79k  \n",
       "..               ...                  ...              ...       ...      ...  \n",
       "83              24.0                 6.45             73.0    96.16%   $3.66k  \n",
       "84              45.0                 6.17             76.1    78.31%  $43.10k  \n",
       "85              58.0                 8.44             78.5   104.12%  $65.30k  \n",
       "86              39.0                 6.71             62.5    54.77%   $1.31k  \n",
       "87              29.0                 5.59             60.7    71.13%   $1.46k  \n",
       "\n",
       "[88 rows x 9 columns]"
      ]
     },
     "execution_count": 11,
     "metadata": {},
     "output_type": "execute_result"
    }
   ],
   "source": [
    "formatted_data_df['Education'] = formatted_data_df['Education'].apply(lambda x: \"{:.2f}%\".format((x/1)))\n",
    "formatted_data_df['GDP'] = formatted_data_df['GDP'].apply(lambda x: \"${:.2f}k\".format((x/1000)))\n",
    "formatted_data_df"
   ]
  },
  {
   "cell_type": "code",
   "execution_count": 12,
   "metadata": {},
   "outputs": [
    {
     "data": {
      "text/html": [
       "<div>\n",
       "<style scoped>\n",
       "    .dataframe tbody tr th:only-of-type {\n",
       "        vertical-align: middle;\n",
       "    }\n",
       "\n",
       "    .dataframe tbody tr th {\n",
       "        vertical-align: top;\n",
       "    }\n",
       "\n",
       "    .dataframe thead th {\n",
       "        text-align: right;\n",
       "    }\n",
       "</style>\n",
       "<table border=\"1\" class=\"dataframe\">\n",
       "  <thead>\n",
       "    <tr style=\"text-align: right;\">\n",
       "      <th></th>\n",
       "      <th>Happiness Score</th>\n",
       "      <th>CPI score 2019</th>\n",
       "      <th>Generosity Score</th>\n",
       "      <th>Human Freedom Score</th>\n",
       "      <th>Life Expectancy</th>\n",
       "      <th>Education</th>\n",
       "      <th>GDP</th>\n",
       "    </tr>\n",
       "  </thead>\n",
       "  <tbody>\n",
       "    <tr>\n",
       "      <th>count</th>\n",
       "      <td>88.000000</td>\n",
       "      <td>88.000000</td>\n",
       "      <td>88.000000</td>\n",
       "      <td>88.000000</td>\n",
       "      <td>88.000000</td>\n",
       "      <td>88.000000</td>\n",
       "      <td>88.000000</td>\n",
       "    </tr>\n",
       "    <tr>\n",
       "      <th>mean</th>\n",
       "      <td>5.477318</td>\n",
       "      <td>45.715909</td>\n",
       "      <td>32.386364</td>\n",
       "      <td>7.135114</td>\n",
       "      <td>73.755682</td>\n",
       "      <td>77.770292</td>\n",
       "      <td>15716.451022</td>\n",
       "    </tr>\n",
       "    <tr>\n",
       "      <th>std</th>\n",
       "      <td>1.066661</td>\n",
       "      <td>17.606131</td>\n",
       "      <td>9.628062</td>\n",
       "      <td>0.957498</td>\n",
       "      <td>6.821886</td>\n",
       "      <td>25.787760</td>\n",
       "      <td>21845.016762</td>\n",
       "    </tr>\n",
       "    <tr>\n",
       "      <th>min</th>\n",
       "      <td>3.334000</td>\n",
       "      <td>20.000000</td>\n",
       "      <td>16.000000</td>\n",
       "      <td>5.290000</td>\n",
       "      <td>59.600000</td>\n",
       "      <td>15.502936</td>\n",
       "      <td>411.552340</td>\n",
       "    </tr>\n",
       "    <tr>\n",
       "      <th>25%</th>\n",
       "      <td>4.552750</td>\n",
       "      <td>32.000000</td>\n",
       "      <td>24.750000</td>\n",
       "      <td>6.517500</td>\n",
       "      <td>68.675000</td>\n",
       "      <td>58.196241</td>\n",
       "      <td>1670.364002</td>\n",
       "    </tr>\n",
       "    <tr>\n",
       "      <th>50%</th>\n",
       "      <td>5.449500</td>\n",
       "      <td>41.000000</td>\n",
       "      <td>31.000000</td>\n",
       "      <td>7.045000</td>\n",
       "      <td>75.050000</td>\n",
       "      <td>89.023028</td>\n",
       "      <td>6306.250015</td>\n",
       "    </tr>\n",
       "    <tr>\n",
       "      <th>75%</th>\n",
       "      <td>6.230500</td>\n",
       "      <td>56.500000</td>\n",
       "      <td>39.000000</td>\n",
       "      <td>7.960000</td>\n",
       "      <td>79.300000</td>\n",
       "      <td>97.053737</td>\n",
       "      <td>19587.374693</td>\n",
       "    </tr>\n",
       "    <tr>\n",
       "      <th>max</th>\n",
       "      <td>7.769000</td>\n",
       "      <td>87.000000</td>\n",
       "      <td>58.000000</td>\n",
       "      <td>8.820000</td>\n",
       "      <td>83.400000</td>\n",
       "      <td>111.001115</td>\n",
       "      <td>114704.594171</td>\n",
       "    </tr>\n",
       "  </tbody>\n",
       "</table>\n",
       "</div>"
      ],
      "text/plain": [
       "       Happiness Score  CPI score 2019  Generosity Score  Human Freedom Score  \\\n",
       "count        88.000000       88.000000         88.000000            88.000000   \n",
       "mean          5.477318       45.715909         32.386364             7.135114   \n",
       "std           1.066661       17.606131          9.628062             0.957498   \n",
       "min           3.334000       20.000000         16.000000             5.290000   \n",
       "25%           4.552750       32.000000         24.750000             6.517500   \n",
       "50%           5.449500       41.000000         31.000000             7.045000   \n",
       "75%           6.230500       56.500000         39.000000             7.960000   \n",
       "max           7.769000       87.000000         58.000000             8.820000   \n",
       "\n",
       "       Life Expectancy   Education            GDP  \n",
       "count        88.000000   88.000000      88.000000  \n",
       "mean         73.755682   77.770292   15716.451022  \n",
       "std           6.821886   25.787760   21845.016762  \n",
       "min          59.600000   15.502936     411.552340  \n",
       "25%          68.675000   58.196241    1670.364002  \n",
       "50%          75.050000   89.023028    6306.250015  \n",
       "75%          79.300000   97.053737   19587.374693  \n",
       "max          83.400000  111.001115  114704.594171  "
      ]
     },
     "execution_count": 12,
     "metadata": {},
     "output_type": "execute_result"
    }
   ],
   "source": [
    "summary_df = final_data_df.describe()\n",
    "summary_df"
   ]
  },
  {
   "cell_type": "code",
   "execution_count": 13,
   "metadata": {},
   "outputs": [],
   "source": [
    "plt.style.use('fivethirtyeight')\n",
    "#print(plt.style.available)"
   ]
  },
  {
   "cell_type": "markdown",
   "metadata": {},
   "source": [
    "## Graphs for Visualization"
   ]
  },
  {
   "cell_type": "code",
   "execution_count": null,
   "metadata": {},
   "outputs": [],
   "source": [
    "x=final_data_df['CPI score 2019']\n",
    "y=final_data_df['Happiness Score']\n",
    "\n",
    "scatter_graph(x,y)"
   ]
  },
  {
   "cell_type": "code",
   "execution_count": null,
   "metadata": {},
   "outputs": [],
   "source": [
    "x=final_data_df['Generosity Score']\n",
    "y=final_data_df['Happiness Score']\n",
    "\n",
    "scatter_graph(x,y)"
   ]
  },
  {
   "cell_type": "code",
   "execution_count": null,
   "metadata": {},
   "outputs": [],
   "source": [
    "x=final_data_df['Human Freedom Score']\n",
    "y=final_data_df['Happiness Score']\n",
    "\n",
    "scatter_graph(x,y)"
   ]
  },
  {
   "cell_type": "code",
   "execution_count": null,
   "metadata": {},
   "outputs": [],
   "source": [
    "x=final_data_df['Life Expectancy']\n",
    "y=final_data_df['Happiness Score']\n",
    "\n",
    "scatter_graph(x,y)"
   ]
  },
  {
   "cell_type": "code",
   "execution_count": null,
   "metadata": {},
   "outputs": [],
   "source": [
    "x=final_data_df['Education']\n",
    "y=final_data_df['Happiness Score']\n",
    "\n",
    "scatter_graph(x,y)\n"
   ]
  },
  {
   "cell_type": "code",
   "execution_count": null,
   "metadata": {},
   "outputs": [],
   "source": [
    "x=final_data_df['GDP']\n",
    "y=final_data_df['Happiness Score']\n",
    "\n",
    "scatter_graph(x,y)"
   ]
  },
  {
   "cell_type": "code",
   "execution_count": null,
   "metadata": {},
   "outputs": [],
   "source": [
    "## import regression summary data frame for analysis\n",
    "\n",
    "regress_summary_df = pd.read_csv('clean data/regression_summary.csv')\n",
    "regress_summary_df"
   ]
  },
  {
   "cell_type": "code",
   "execution_count": null,
   "metadata": {},
   "outputs": [],
   "source": [
    "bar_plt(x,y)"
   ]
  },
  {
   "cell_type": "code",
   "execution_count": null,
   "metadata": {},
   "outputs": [],
   "source": [
    "bubble1()"
   ]
  },
  {
   "cell_type": "code",
   "execution_count": null,
   "metadata": {},
   "outputs": [],
   "source": [
    "bubble2()"
   ]
  },
  {
   "cell_type": "code",
   "execution_count": null,
   "metadata": {},
   "outputs": [],
   "source": [
    "region_group_df = final_data_df.groupby('Region').mean()\n",
    "region_group_df"
   ]
  },
  {
   "cell_type": "code",
   "execution_count": null,
   "metadata": {},
   "outputs": [],
   "source": [
    "region_group_df.groupby('Region')['GDP'].agg(lambda x: sum(x)).plot(kind='pie',title='Region GDP plot',\n",
    "                                                                             figsize=(20,7))"
   ]
  },
  {
   "cell_type": "code",
   "execution_count": null,
   "metadata": {},
   "outputs": [],
   "source": [
    "#scatter plot to show Happinesss vs LIfe expectancy corrlate with GDP.\n",
    "# trace1\n",
    "\n",
    "print('Happiness Score vs. Life Expectancy vs. GDP\\nx = Happiness Score\\ny = Life Expectancy\\nz = GDP\\n\\n')\n",
    "trace1 = go.Scatter3d(\n",
    "    x=region_group_df['Happiness Score'],\n",
    "    y=region_group_df['Life Expectancy'],\n",
    "    z=region_group_df['GDP'],\n",
    "    mode='markers',\n",
    "    name = \"Region Data\",\n",
    "    marker=dict(\n",
    "        color='rgb(217, 100, 100)',\n",
    "        size=12,\n",
    "        line=dict(\n",
    "            color='rgb(255, 255, 255)',\n",
    "            width=0.1\n",
    "        )\n",
    "    )\n",
    ")\n",
    "data = [trace1]\n",
    "layout = go.Layout(\n",
    "    title = 'Region Data',\n",
    "    margin=dict(\n",
    "        l=0,\n",
    "        r=0,\n",
    "        b=0,\n",
    "        t=0\n",
    "    )\n",
    ")\n",
    "\n",
    "fig = go.Figure(data=data, layout=layout)\n",
    "fig.show()"
   ]
  }
 ],
 "metadata": {
  "kernelspec": {
   "display_name": "Python 3",
   "language": "python",
   "name": "python3"
  },
  "language_info": {
   "codemirror_mode": {
    "name": "ipython",
    "version": 3
   },
   "file_extension": ".py",
   "mimetype": "text/x-python",
   "name": "python",
   "nbconvert_exporter": "python",
   "pygments_lexer": "ipython3",
   "version": "3.8.5"
  }
 },
 "nbformat": 4,
 "nbformat_minor": 4
}
